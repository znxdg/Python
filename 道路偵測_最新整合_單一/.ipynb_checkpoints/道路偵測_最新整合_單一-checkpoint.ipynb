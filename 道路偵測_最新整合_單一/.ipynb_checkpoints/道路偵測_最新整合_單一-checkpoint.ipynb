{
 "cells": [
  {
   "cell_type": "code",
   "execution_count": 5,
   "id": "2bd9aecf",
   "metadata": {},
   "outputs": [],
   "source": [
    "import cv2\n",
    "import numpy as np\n",
    "##from moviepy.editor import VideoFileClip\n",
    "import matplotlib.image as mpimg\n",
    "import matplotlib.pyplot as plt\n",
    " \n",
    "blur_ksize = 5  # Gaussian blur kernel size\n",
    "canny_lthreshold = 70  # Canny edge detection low threshold\n",
    "canny_hthreshold = 150  # Canny edge detection high threshold\n",
    " \n",
    "# Hough transform parameters\n",
    "rho = 1\n",
    "theta = np.pi / 180\n",
    "threshold = 15\n",
    "min_line_length = 60\n",
    "max_line_gap = 30\n",
    " "
   ]
  },
  {
   "cell_type": "code",
   "execution_count": 6,
   "id": "a7413e25",
   "metadata": {},
   "outputs": [],
   "source": [
    "def roi_mask(img, vertices):\n",
    "    mask = np.zeros_like(img)\n",
    " \n",
    "    # defining a 3 channel or 1 channel color to fill the mask with depending on the input image\n",
    "    if len(img.shape) > 2:\n",
    "        channel_count = img.shape[2]  # i.e. 3 or 4 depending on your image\n",
    "        mask_color = (255,) * channel_count\n",
    "    else:\n",
    "        mask_color = 255\n",
    " \n",
    "    cv2.fillPoly(mask, vertices, mask_color)\n",
    "    masked_img = cv2.bitwise_and(img, mask)\n",
    "    return masked_img"
   ]
  },
  {
   "cell_type": "code",
   "execution_count": 7,
   "id": "0afe8cfa",
   "metadata": {},
   "outputs": [],
   "source": [
    "def draw_roi(img, vertices):\n",
    "    cv2.polylines(img, vertices, True, [255, 0, 0], thickness=2)"
   ]
  },
  {
   "cell_type": "code",
   "execution_count": 8,
   "id": "a11448ee",
   "metadata": {},
   "outputs": [],
   "source": [
    "def draw_lines(img, lines, color=[255, 0, 0], thickness=2):\n",
    "    for line in lines:\n",
    "        for x1, y1, x2, y2 in line:\n",
    "            cv2.line(img, (x1, y1), (x2, y2), color, thickness)\n",
    " "
   ]
  },
  {
   "cell_type": "code",
   "execution_count": 9,
   "id": "4365e376",
   "metadata": {},
   "outputs": [],
   "source": [
    "def hough_lines(img, rho, theta, threshold, min_line_len, max_line_gap):\n",
    "    lines = cv2.HoughLinesP(img, rho, theta, threshold, np.array([]), minLineLength=min_line_len,\n",
    "                            maxLineGap=max_line_gap)\n",
    "    line_img = np.zeros((img.shape[0], img.shape[1], 3), dtype=np.uint8)\n",
    "    \n",
    "    ## draw_lines(line_img, lines)\n",
    "    try:\n",
    "        draw_lanes(line_img, lines)\n",
    "    except:\n",
    "        pass\n",
    "    return line_img"
   ]
  },
  {
   "cell_type": "code",
   "execution_count": 10,
   "id": "1c4094aa",
   "metadata": {},
   "outputs": [],
   "source": [
    "def draw_lanes(img, lines, color=[255, 0, 0], thickness=8):\n",
    "    left_lines, right_lines = [], []\n",
    "    for line in lines:\n",
    "        for x1, y1, x2, y2 in line:\n",
    "            k = (y2 - y1) / (x2 - x1)\n",
    "            if k < 0:\n",
    "                left_lines.append(line)\n",
    "            else:\n",
    "                right_lines.append(line)\n",
    " \n",
    "    if (len(left_lines) <= 0 or len(right_lines) <= 0):\n",
    "        return img\n",
    " \n",
    "    clean_lines(left_lines, 0.1)\n",
    "    clean_lines(right_lines, 0.1)\n",
    "    left_points = [(x1, y1) for line in left_lines for x1, y1, x2, y2 in line]\n",
    "    left_points = left_points + [(x2, y2) for line in left_lines for x1, y1, x2, y2 in line]\n",
    "    right_points = [(x1, y1) for line in right_lines for x1, y1, x2, y2 in line]\n",
    "    right_points = right_points + [(x2, y2) for line in right_lines for x1, y1, x2, y2 in line]\n",
    "    \n",
    "    ##設置道路線的長度跟畫出來  深藍色\n",
    "    left_vtx = calc_lane_vertices(left_points, img.shape[0]-200, img.shape[0])\n",
    "    right_vtx = calc_lane_vertices(right_points, img.shape[0]-200, img.shape[0])\n",
    " \n",
    "    cv2.line(img, left_vtx[0], left_vtx[1], color, thickness)\n",
    "    cv2.line(img, right_vtx[0], right_vtx[1], color, thickness)\n",
    "    \n",
    "    ##中間點線 紅色線\n",
    "    ##cv2.line(img, ( int( img.shape[1] /2 ),img.shape[0]) , ( int( img.shape[1] /2 ),img.shape[0]-50) , color=[0, 0, 255], thickness=8)\n",
    "    cv2.line(img, ( int( (left_vtx[1][0]+right_vtx[1][0]) /2 ),img.shape[0]) , ( int( (left_vtx[1][0]+right_vtx[1][0]) /2 ),img.shape[0]-50) , color=[0, 0, 255], thickness=15)\n",
    "\n",
    "    ##偏移線  淡藍色線\n",
    "    \n",
    "    cv2.line(img, ( int( img.shape[1] /2 ),img.shape[0]) , ( int( (left_vtx[1][0]+right_vtx[1][0]) /2 ),img.shape[0]-50) , color=[255, 255, 0], thickness=8)\n",
    "\n",
    "    \n",
    "    ##判定會不會偏左或偏右來顯示提醒文字\n",
    "    mid_x=img.shape[1]/2\n",
    "    x = (left_vtx[1][0]+right_vtx[1][0]) /2\n",
    "    if((x-mid_x)>50):\n",
    "        cv2.putText(img, 'too left', (100, 50), cv2.FONT_HERSHEY_SIMPLEX,1, (0, 255, 123), 2, cv2.LINE_AA)\n",
    "    elif((x-mid_x)<-50):\n",
    "        cv2.putText(img, 'too right', (100, 50), cv2.FONT_HERSHEY_SIMPLEX,1, (0, 255, 123), 2, cv2.LINE_AA)\n",
    "    else:\n",
    "        cv2.putText(img, 'nice', (100, 50), cv2.FONT_HERSHEY_SIMPLEX,1, (0, 255, 123), 2, cv2.LINE_AA)\n",
    "    ##"
   ]
  },
  {
   "cell_type": "code",
   "execution_count": 11,
   "id": "7fc2e636",
   "metadata": {},
   "outputs": [],
   "source": [
    "def clean_lines(lines, threshold):\n",
    "    slope = [(y2 - y1) / (x2 - x1) for line in lines for x1, y1, x2, y2 in line]\n",
    "    while len(lines) > 0:\n",
    "        mean = np.mean(slope)\n",
    "        diff = [abs(s - mean) for s in slope]\n",
    "        idx = np.argmax(diff)\n",
    "        if diff[idx] > threshold:\n",
    "            slope.pop(idx)\n",
    "            lines.pop(idx)\n",
    "        else:\n",
    "            break"
   ]
  },
  {
   "cell_type": "code",
   "execution_count": 12,
   "id": "14c6787a",
   "metadata": {},
   "outputs": [],
   "source": [
    "def calc_lane_vertices(point_list, ymin, ymax):\n",
    "    x = [p[0] for p in point_list]\n",
    "    y = [p[1] for p in point_list]\n",
    "    fit = np.polyfit(y, x, 1)\n",
    "    fit_fn = np.poly1d(fit)\n",
    " \n",
    "    xmin = int(fit_fn(ymin))\n",
    "    xmax = int(fit_fn(ymax))\n",
    " \n",
    "    return [(xmin, ymin), (xmax, ymax)]"
   ]
  },
  {
   "cell_type": "markdown",
   "id": "2337f8c5",
   "metadata": {},
   "source": [
    "# ----------------------------------------------------------------"
   ]
  },
  {
   "cell_type": "markdown",
   "id": "25b546a2",
   "metadata": {},
   "source": [
    "# 比例自動調整 未加入mask分開"
   ]
  },
  {
   "cell_type": "code",
   "execution_count": 23,
   "id": "1b20e5cf",
   "metadata": {},
   "outputs": [],
   "source": [
    "def process_an_image(img):\n",
    "    \n",
    "    roi_vtx = np.array([[ (int(img.shape[1]/10*2.5), int(img.shape[0]/5*4)) ,\n",
    "                         (int(img.shape[1]/10*4), int(img.shape[0]/5*3)),\n",
    "                         (int(img.shape[1]/10*6), int(img.shape[0]/5*3)),\n",
    "                         (int(img.shape[1]/10*7.5), int(img.shape[0]/5*4))]]) ##challenge.mp4\n",
    "    \n",
    "    hsv = cv2.cvtColor(img, cv2.COLOR_BGR2HSV)  ##  BGR!!!!!!!!!\n",
    "   \n",
    "    lower_yellow = np.array([20, 100, 100])\n",
    "    upper_yellow = np.array([40, 255, 255])\n",
    "    yellow_mask = cv2.inRange(hsv, lower_yellow, upper_yellow)\n",
    "\n",
    "    lower_white = np.array([0, 0, 215])\n",
    "    upper_white = np.array([180, 40, 255])\n",
    "    white_mask = cv2.inRange(hsv, lower_white, upper_white)\n",
    "    \n",
    "    color_mask = cv2.bitwise_or(yellow_mask, white_mask)\n",
    "\n",
    "    \n",
    "    gray = cv2.cvtColor(img, cv2.COLOR_RGB2GRAY)\n",
    "    darken = (gray / 3).astype(np.uint8)\n",
    "    color_masked = cv2.bitwise_or(darken, color_mask)\n",
    "\n",
    "    blur_gray = cv2.GaussianBlur(color_masked, (blur_ksize, blur_ksize), 0, 0)\n",
    "    \n",
    "    \n",
    "    edges = cv2.Canny(blur_gray, canny_lthreshold, canny_hthreshold)\n",
    "    \n",
    "    #原mask\n",
    "    roi_edges = roi_mask(edges, roi_vtx)\n",
    "    \n",
    "    #合併兩邊mask\n",
    "    #roi_edges_left = roi_mask(edges,roi_vtx_left)     ##左邊mask\n",
    "    #roi_edges_right = roi_mask(edges,roi_vtx_right)   ##右邊mask\n",
    "    #roi_edges = cv2.addWeighted(roi_edges_left, 0.8, roi_edges_right, 1, 0)   ##兩邊mask合併\n",
    "    \n",
    "    line_img = hough_lines(roi_edges, rho, theta, threshold, min_line_length, max_line_gap)\n",
    "    res_img = cv2.addWeighted(img, 0.8, line_img, 1, 0) #將兩張圖片融合在一起，參數為 (照片1,照片1權重,照片2,照片2權重,融合後的添加值)\n",
    "     \n",
    "    \n",
    "    ##-----------------------##回傳未gray的圖形\n",
    "    roi_edges_img = roi_mask(img, roi_vtx)\n",
    "   \n",
    "    \n",
    "    #return color_mask #顯示黃色 白色\n",
    "    #return roi_edges #顯示mask的位置\n",
    "    #return edges    #只有線\n",
    "    #return roi_edges_img #顯示mask的位置 有顏色\n",
    "    return res_img   #顯示正常結果"
   ]
  },
  {
   "cell_type": "code",
   "execution_count": 25,
   "id": "55f32f50",
   "metadata": {},
   "outputs": [],
   "source": [
    "#cap = cv2.VideoCapture('test_video/challenge.mp4')\n",
    "cap = cv2.VideoCapture('test_video/video_1.mp4')\n",
    "\n",
    "while(True):\n",
    "  ret, frame = cap.read()\n",
    "  cv2.imshow('frame', process_an_image(frame))\n",
    "\n",
    "  if cv2.waitKey(1) & 0xFF == ord('q'):\n",
    "    break\n",
    "\n",
    "cap.release()\n",
    "cv2.destroyAllWindows()"
   ]
  },
  {
   "cell_type": "code",
   "execution_count": null,
   "id": "99cce0fb",
   "metadata": {},
   "outputs": [],
   "source": []
  },
  {
   "cell_type": "code",
   "execution_count": null,
   "id": "0271a1c5",
   "metadata": {},
   "outputs": [],
   "source": []
  },
  {
   "cell_type": "code",
   "execution_count": null,
   "id": "09118897",
   "metadata": {},
   "outputs": [],
   "source": []
  }
 ],
 "metadata": {
  "kernelspec": {
   "display_name": "Python 3 (ipykernel)",
   "language": "python",
   "name": "python3"
  },
  "language_info": {
   "codemirror_mode": {
    "name": "ipython",
    "version": 3
   },
   "file_extension": ".py",
   "mimetype": "text/x-python",
   "name": "python",
   "nbconvert_exporter": "python",
   "pygments_lexer": "ipython3",
   "version": "3.9.7"
  }
 },
 "nbformat": 4,
 "nbformat_minor": 5
}
